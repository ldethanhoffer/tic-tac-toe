{
 "cells": [
  {
   "cell_type": "markdown",
   "metadata": {},
   "source": [
    "In this tutorial, we'll program a game of tic-tac-toe in an object oriented way!!\n",
    "\n",
    "To follow along, just clone **tictactoe.py** from [this repository](www.github.com/ldethanhoffer)"
   ]
  },
  {
   "cell_type": "code",
   "execution_count": 1,
   "metadata": {},
   "outputs": [],
   "source": [
    "import tictactoe"
   ]
  },
  {
   "cell_type": "markdown",
   "metadata": {},
   "source": [
    "We'll begin wih  little info on the tictactoe.py module:"
   ]
  },
  {
   "cell_type": "code",
   "execution_count": 2,
   "metadata": {},
   "outputs": [
    {
     "name": "stdout",
     "output_type": "stream",
     "text": [
      "Help on module tictactoe:\n",
      "\n",
      "NAME\n",
      "    tictactoe\n",
      "\n",
      "CLASSES\n",
      "    builtins.object\n",
      "        Game\n",
      "    \n",
      "    class Game(builtins.object)\n",
      "     |  # The Game class:\n",
      "     |  \n",
      "     |  Methods defined here:\n",
      "     |  \n",
      "     |  __init__(self)\n",
      "     |      Initialize self.  See help(type(self)) for accurate signature.\n",
      "     |  \n",
      "     |  display(self)\n",
      "     |  \n",
      "     |  evaluate(self)\n",
      "     |  \n",
      "     |  taketurn(self, box)\n",
      "     |  \n",
      "     |  ----------------------------------------------------------------------\n",
      "     |  Data descriptors defined here:\n",
      "     |  \n",
      "     |  __dict__\n",
      "     |      dictionary for instance variables (if defined)\n",
      "     |  \n",
      "     |  __weakref__\n",
      "     |      list of weak references to the object (if defined)\n",
      "\n",
      "FUNCTIONS\n",
      "    get_products(board)\n",
      "        # An additional helper function:\n",
      "    \n",
      "    play()\n",
      "        # Play the game\n",
      "\n",
      "FILE\n",
      "    /Users/Louis/ml_projects/tic-tac-toe/tictactoe.py\n",
      "\n",
      "\n"
     ]
    }
   ],
   "source": [
    "help(tictactoe)"
   ]
  },
  {
   "cell_type": "markdown",
   "metadata": {},
   "source": [
    "As we can see, tictactoe.py contains the *class* called **Game** which has 4 *methods*\n",
    "  * init: creates an object from the **Game** class using two *attributes* :\n",
    "    * the *board*: a $3\\times 3$ matrix with values in $\\{0,1,2\\}$ (initially just zeroes)\n",
    "    * the *player*:  either 1 or 2 (chosen at random, initially) \n",
    "    \n",
    "  * display: renders the board in a pleasing way using the  [matplotlib](https://matplotlib.org/) framework  \n",
    "\n",
    "  * evaluate: determines the current state of the game: did a player win? is there a draw? or do we keep playing?\n",
    "  * taketurn: allows a player to take a turn by choosing a box and updates the board\n",
    "  \n",
    "Additionally, tictactoe.py contains two other functions \n",
    "  * get_products(): help streamline some of the arithmetic...\n",
    "  * play():  combine the methods in the **Game** class to create the game of tic-tac-toe"
   ]
  },
  {
   "cell_type": "code",
   "execution_count": 3,
   "metadata": {},
   "outputs": [],
   "source": [
    "game = tictactoe.Game()"
   ]
  },
  {
   "cell_type": "code",
   "execution_count": 4,
   "metadata": {},
   "outputs": [
    {
     "name": "stdout",
     "output_type": "stream",
     "text": [
      "the board is: \n",
      "\n",
      " [[0 0 0]\n",
      " [0 0 0]\n",
      " [0 0 0]] \n",
      "\n",
      "the player is: 2\n"
     ]
    }
   ],
   "source": [
    "print(\"the board is: \\n\\n {} \\n\".format(game.board))\n",
    "print(\"the player is: {}\".format(game.player))"
   ]
  },
  {
   "cell_type": "markdown",
   "metadata": {},
   "source": [
    "This doesn't look very pretty, so we'll use the display method to render the board.  \n",
    "\n",
    "For now, since every square has the value 0, the display will be all black:"
   ]
  },
  {
   "cell_type": "code",
   "execution_count": 5,
   "metadata": {},
   "outputs": [
    {
     "data": {
      "image/png": "[encoded data removed]",
      "text/plain": [
       "<Figure size 432x288 with 1 Axes>"
      ]
     },
     "metadata": {
      "needs_background": "light"
     },
     "output_type": "display_data"
    }
   ],
   "source": [
    "game.display()"
   ]
  },
  {
   "cell_type": "markdown",
   "metadata": {},
   "source": [
    "Now, let's take a turn by filling in the box (1,1):"
   ]
  },
  {
   "cell_type": "code",
   "execution_count": 6,
   "metadata": {},
   "outputs": [
    {
     "data": {
      "image/png": "[encoded data removed]",
      "text/plain": [
       "<Figure size 432x288 with 1 Axes>"
      ]
     },
     "metadata": {
      "needs_background": "light"
     },
     "output_type": "display_data"
    }
   ],
   "source": [
    "game.taketurn([1, 1])\n",
    "game.display()"
   ]
  },
  {
   "cell_type": "markdown",
   "metadata": {},
   "source": [
    "We can evaluate the board:"
   ]
  },
  {
   "cell_type": "code",
   "execution_count": 7,
   "metadata": {},
   "outputs": [
    {
     "name": "stdout",
     "output_type": "stream",
     "text": [
      "continue\n"
     ]
    },
    {
     "data": {
      "text/plain": [
       "'continue'"
      ]
     },
     "execution_count": 7,
     "metadata": {},
     "output_type": "execute_result"
    }
   ],
   "source": [
    "game.evaluate()"
   ]
  },
  {
   "cell_type": "markdown",
   "metadata": {},
   "source": [
    "To keep going, let's make player 2 win by filling in the middle row:"
   ]
  },
  {
   "cell_type": "code",
   "execution_count": 8,
   "metadata": {},
   "outputs": [
    {
     "data": {
      "image/png": "[encoded data removed]",
      "text/plain": [
       "<Figure size 432x288 with 1 Axes>"
      ]
     },
     "metadata": {
      "needs_background": "light"
     },
     "output_type": "display_data"
    },
    {
     "name": "stdout",
     "output_type": "stream",
     "text": [
      "player 2 won!\n"
     ]
    },
    {
     "data": {
      "text/plain": [
       "'player 2 won!'"
      ]
     },
     "execution_count": 8,
     "metadata": {},
     "output_type": "execute_result"
    }
   ],
   "source": [
    "game.taketurn([0, 0])\n",
    "game.taketurn([1, 0])\n",
    "game.taketurn([0, 1])\n",
    "game.taketurn([1, 2])\n",
    "game.display()\n",
    "game.evaluate()"
   ]
  },
  {
   "cell_type": "markdown",
   "metadata": {},
   "source": [
    "Finally, let's put it all together by running the function \"play\" that combines those three methods:"
   ]
  },
  {
   "cell_type": "code",
   "execution_count": 9,
   "metadata": {},
   "outputs": [
    {
     "data": {
      "image/png": "[encoded data removed]",
      "text/plain": [
       "<Figure size 432x288 with 1 Axes>"
      ]
     },
     "metadata": {
      "needs_background": "light"
     },
     "output_type": "display_data"
    },
    {
     "name": "stdout",
     "output_type": "stream",
     "text": [
      "player 1 won!\n"
     ]
    }
   ],
   "source": [
    "tictactoe.play()"
   ]
  }
 ],
 "metadata": {
  "kernelspec": {
   "display_name": "Python 3",
   "language": "python",
   "name": "python3"
  },
  "language_info": {
   "codemirror_mode": {
    "name": "ipython",
    "version": 3
   },
   "file_extension": ".py",
   "mimetype": "text/x-python",
   "name": "python",
   "nbconvert_exporter": "python",
   "pygments_lexer": "ipython3",
   "version": "3.7.2"
  }
 },
 "nbformat": 4,
 "nbformat_minor": 2
}
